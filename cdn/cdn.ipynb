{
 "cells": [
  {
   "cell_type": "code",
   "execution_count": 1,
   "metadata": {},
   "outputs": [],
   "source": [
    "import pickle\n",
    "from util import parse_har"
   ]
  },
  {
   "cell_type": "code",
   "execution_count": 2,
   "metadata": {},
   "outputs": [],
   "source": [
    "class CDN:\n",
    "    \n",
    "    # The CDN implements a clock-handle \n",
    "    def __init__(self, size_mb: int) -> None:\n",
    "        self.size = size_mb * 1024 * 1024\n",
    "        self.hashmap = {}\n",
    "        self.current_size = 0\n",
    "    \n",
    "        # Counters\n",
    "        self.total_requests = 0\n",
    "        self.hit = 0\n",
    "        \n",
    "        # Related to LSTM time quanta\n",
    "    \n",
    "    def fetch(self, path: str, size: int):\n",
    "        # print(\"Accessing {}\".format(path))\n",
    "        self.total_requests += 1\n",
    "        # Has it cached, return, do nothing\n",
    "        # NOTE: we ignore CDN's fetching update, not important\n",
    "        if path in self.hashmap:\n",
    "            self.hit += 1\n",
    "            # Pop and Push, Python Dict maintains insertion order\n",
    "            value = self.hashmap.pop(path)\n",
    "            self.hashmap[path] = value\n",
    "            \n",
    "            return value\n",
    "        \n",
    "        # Not cached, we need to grab\n",
    "        if self.current_size + size > self.size:\n",
    "            self.evict(size)\n",
    "            \n",
    "        # After evict, we insert\n",
    "        self.hashmap[path] = (path, size)\n",
    "        self.current_size += size\n",
    "        # print(\"Newly cached. Size now is {}/{} bytes, {:.2f}% full\".format(self.current_size, self.size, self.current_size/self.size*100))\n",
    "        \n",
    "    def evict(self, incoming_size):\n",
    "        # Remove the head of the dict, until size+self.current_size < self.size_mb\n",
    "        while self.current_size + incoming_size > self.size:\n",
    "            # Pop the head\n",
    "            key = next(iter(self.hashmap))\n",
    "            value = self.hashmap.pop(key)\n",
    "            \n",
    "            self.current_size -= value[1]\n",
    "            # print(\"Evicting {}\".format(key))"
   ]
  },
  {
   "cell_type": "code",
   "execution_count": 3,
   "metadata": {},
   "outputs": [],
   "source": [
    "# Load the HAR dict pickle file\n",
    "uchicago_har = pickle.load(open(\"../generator/user_600_hour_6_cs.uchicago.edu.har\", \"rb\"))\n",
    "uchicago_har = parse_har(uchicago_har)"
   ]
  },
  {
   "cell_type": "code",
   "execution_count": 4,
   "metadata": {},
   "outputs": [
    {
     "name": "stderr",
     "output_type": "stream",
     "text": [
      "/tmp/ipykernel_6841/1216675750.py:2: FutureWarning: The frame.append method is deprecated and will be removed from pandas in a future version. Use pandas.concat instead.\n",
      "  uchicago_har = uchicago_har.append(uchicago_har)\n"
     ]
    }
   ],
   "source": [
    "# We replay it twice so that we will have less cold miss\n",
    "uchicago_har = uchicago_har.append(uchicago_har)"
   ]
  },
  {
   "cell_type": "code",
   "execution_count": 8,
   "metadata": {},
   "outputs": [],
   "source": [
    "cdn = CDN(100)\n",
    "\n",
    "for row in uchicago_har.iloc():\n",
    "    path = row['url']\n",
    "    size_mb = row['body_size']\n",
    "    \n",
    "    cdn.fetch(path, size_mb)"
   ]
  },
  {
   "cell_type": "code",
   "execution_count": 9,
   "metadata": {},
   "outputs": [
    {
     "name": "stdout",
     "output_type": "stream",
     "text": [
      "Hit Ratio: 76.04%\n"
     ]
    }
   ],
   "source": [
    "print(\"Hit Ratio: {:.2f}%\".format(cdn.hit/cdn.total_requests*100))"
   ]
  },
  {
   "cell_type": "code",
   "execution_count": null,
   "metadata": {},
   "outputs": [],
   "source": []
  }
 ],
 "metadata": {
  "kernelspec": {
   "display_name": "31220",
   "language": "python",
   "name": "python3"
  },
  "language_info": {
   "codemirror_mode": {
    "name": "ipython",
    "version": 3
   },
   "file_extension": ".py",
   "mimetype": "text/x-python",
   "name": "python",
   "nbconvert_exporter": "python",
   "pygments_lexer": "ipython3",
   "version": "3.10.11"
  }
 },
 "nbformat": 4,
 "nbformat_minor": 2
}

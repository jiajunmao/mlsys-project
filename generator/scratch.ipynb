{
 "cells": [
  {
   "cell_type": "code",
   "execution_count": 1,
   "id": "initial_id",
   "metadata": {
    "ExecuteTime": {
     "end_time": "2023-11-08T06:40:26.445654200Z",
     "start_time": "2023-11-08T06:40:26.156439800Z"
    },
    "collapsed": true
   },
   "outputs": [],
   "source": [
    "import numpy as np\n",
    "import pandas as pd\n",
    "import pickle\n",
    "import torch\n",
    "\n",
    "from util import is_json, parse_har, write_har, postprocess_har\n",
    "from trace_gen import process_event, gen_trace\n",
    "from feature_gen import gen_feature\n",
    "from gen_types import Event, System\n",
    "from plotter import plot_frequencies\n",
    "\n",
    "%load_ext autoreload\n",
    "%autoreload 2"
   ]
  },
  {
   "cell_type": "code",
   "execution_count": 22,
   "metadata": {},
   "outputs": [
    {
     "name": "stdout",
     "output_type": "stream",
     "text": [
      "Starting proxy\n",
      "Proxy started\n",
      "Starting driver 0\n",
      "Initialized, generating trace\n",
      "User 0 done, remaining 0 users\n",
      "Done, aggregating har\n"
     ]
    },
    {
     "ename": "AttributeError",
     "evalue": "'list' object has no attribute 'keys'",
     "output_type": "error",
     "traceback": [
      "\u001b[0;31m---------------------------------------------------------------------------\u001b[0m",
      "\u001b[0;31mAttributeError\u001b[0m                            Traceback (most recent call last)",
      "\u001b[1;32m/home/aaronmao/programming/mlsys-project/generator/scratch.ipynb Cell 2\u001b[0m line \u001b[0;36m1\n\u001b[1;32m     <a href='vscode-notebook-cell://wsl%2Bubuntu/home/aaronmao/programming/mlsys-project/generator/scratch.ipynb#W2sdnNjb2RlLXJlbW90ZQ%3D%3D?line=9'>10</a>\u001b[0m \u001b[39m# ---------------------\u001b[39;00m\n\u001b[1;32m     <a href='vscode-notebook-cell://wsl%2Bubuntu/home/aaronmao/programming/mlsys-project/generator/scratch.ipynb#W2sdnNjb2RlLXJlbW90ZQ%3D%3D?line=11'>12</a>\u001b[0m base_path \u001b[39m=\u001b[39m \u001b[39m\"\u001b[39m\u001b[39mcc.gatech.edu\u001b[39m\u001b[39m\"\u001b[39m\n\u001b[0;32m---> <a href='vscode-notebook-cell://wsl%2Bubuntu/home/aaronmao/programming/mlsys-project/generator/scratch.ipynb#W2sdnNjb2RlLXJlbW90ZQ%3D%3D?line=13'>14</a>\u001b[0m aggregate_har, sys \u001b[39m=\u001b[39m gen_trace(base_path, num_user, mission_minutes, num_worker)\n",
      "File \u001b[0;32m~/programming/mlsys-project/generator/trace_gen.py:63\u001b[0m, in \u001b[0;36mgen_trace\u001b[0;34m(base_path, num_user, mission_minutes, num_worker)\u001b[0m\n\u001b[1;32m     60\u001b[0m \u001b[39mprint\u001b[39m(\u001b[39m\"\u001b[39m\u001b[39mDone, aggregating har\u001b[39m\u001b[39m\"\u001b[39m)\n\u001b[1;32m     62\u001b[0m aggregate_har \u001b[39m=\u001b[39m []\n\u001b[0;32m---> 63\u001b[0m \u001b[39mprint\u001b[39m(sys\u001b[39m.\u001b[39;49mhar_buffer\u001b[39m.\u001b[39;49mkeys())\n\u001b[1;32m     64\u001b[0m \u001b[39mfor\u001b[39;00m hars \u001b[39min\u001b[39;00m sys\u001b[39m.\u001b[39mhar_buffer:\n\u001b[1;32m     65\u001b[0m     aggregate_har \u001b[39m+\u001b[39m\u001b[39m=\u001b[39m hars\n",
      "\u001b[0;31mAttributeError\u001b[0m: 'list' object has no attribute 'keys'"
     ]
    }
   ],
   "source": [
    "# ---------------------\n",
    "num_worker = 1\n",
    "num_user = 1\n",
    "mission_hour = 1\n",
    "# ---------------------\n",
    "\n",
    "mission_minutes = mission_hour*60\n",
    "mission_seconds = mission_hour*60*60\n",
    "\n",
    "# ---------------------\n",
    "\n",
    "base_path = \"cc.gatech.edu\"\n",
    "\n",
    "aggregate_har, sys = gen_trace(base_path, num_user, mission_minutes, num_worker)"
   ]
  },
  {
   "cell_type": "code",
   "execution_count": 10,
   "metadata": {},
   "outputs": [],
   "source": [
    "test_pdf = postprocess_har(aggregate_har, base_path)\n",
    "\n",
    "f = open(\"user_{}_hour_{}_{}.pandas\".format(num_user, mission_hour, base_path), \"wb\")\n",
    "pickle.dump(test_pdf, f)\n",
    "f.close()"
   ]
  },
  {
   "cell_type": "code",
   "execution_count": 11,
   "metadata": {},
   "outputs": [
    {
     "data": {
      "text/html": [
       "<div>\n",
       "<style scoped>\n",
       "    .dataframe tbody tr th:only-of-type {\n",
       "        vertical-align: middle;\n",
       "    }\n",
       "\n",
       "    .dataframe tbody tr th {\n",
       "        vertical-align: top;\n",
       "    }\n",
       "\n",
       "    .dataframe thead th {\n",
       "        text-align: right;\n",
       "    }\n",
       "</style>\n",
       "<table border=\"1\" class=\"dataframe\">\n",
       "  <thead>\n",
       "    <tr style=\"text-align: right;\">\n",
       "      <th></th>\n",
       "      <th>url</th>\n",
       "      <th>start_time</th>\n",
       "      <th>response_code</th>\n",
       "      <th>body_size</th>\n",
       "      <th>rtt</th>\n",
       "      <th>relative</th>\n",
       "    </tr>\n",
       "  </thead>\n",
       "  <tbody>\n",
       "    <tr>\n",
       "      <th>5</th>\n",
       "      <td>https://gatech.edu/</td>\n",
       "      <td>2023-11-27 06:23:41.921253-06:00</td>\n",
       "      <td>301</td>\n",
       "      <td>231</td>\n",
       "      <td>167</td>\n",
       "      <td>0</td>\n",
       "    </tr>\n",
       "    <tr>\n",
       "      <th>6</th>\n",
       "      <td>https://www.gatech.edu/</td>\n",
       "      <td>2023-11-27 06:23:42.016253-06:00</td>\n",
       "      <td>403</td>\n",
       "      <td>919</td>\n",
       "      <td>73</td>\n",
       "      <td>1</td>\n",
       "    </tr>\n",
       "  </tbody>\n",
       "</table>\n",
       "</div>"
      ],
      "text/plain": [
       "                       url                       start_time  response_code  \\\n",
       "5      https://gatech.edu/ 2023-11-27 06:23:41.921253-06:00            301   \n",
       "6  https://www.gatech.edu/ 2023-11-27 06:23:42.016253-06:00            403   \n",
       "\n",
       "   body_size  rtt  relative  \n",
       "5        231  167         0  \n",
       "6        919   73         1  "
      ]
     },
     "execution_count": 11,
     "metadata": {},
     "output_type": "execute_result"
    }
   ],
   "source": [
    "test_pdf.head(40)"
   ]
  },
  {
   "cell_type": "code",
   "execution_count": null,
   "metadata": {},
   "outputs": [],
   "source": [
    "url_pdf = test_pdf.groupby('url').size().sort_values(ascending=False)\n",
    "url_pdf.head(50)"
   ]
  },
  {
   "cell_type": "code",
   "execution_count": 16,
   "metadata": {},
   "outputs": [],
   "source": [
    "# Load the HAR dict pickle file\n",
    "gatech_har = pickle.load(open(\"user_2000_hour_12_cc.gatech.edu.har\", \"rb\"))"
   ]
  },
  {
   "cell_type": "code",
   "execution_count": 19,
   "metadata": {},
   "outputs": [],
   "source": [
    "gatech_processed = postprocess_har(gatech_har, base_path)"
   ]
  },
  {
   "cell_type": "code",
   "execution_count": 20,
   "metadata": {},
   "outputs": [
    {
     "data": {
      "text/plain": [
       "url\n",
       "https://www.cc.gatech.edu/                                                                                                                                 410\n",
       "https://cc.gatech.edu/                                                                                                                                     409\n",
       "https://www.cc.gatech.edu/hg-reader/log/2347                                                                                                               403\n",
       "https://www.cc.gatech.edu/sites/default/files/css/css_bS_6dF4XdyigTa3-pkFiUTcWTvBo-sM6aWKjuWgO8uo.css                                                      400\n",
       "https://www.cc.gatech.edu/sites/default/files/css/css_r8Tcq6DcMOs2lcApSYEEj9WguTYo1pLgY4X2rqnoh6I.css                                                      400\n",
       "https://www.cc.gatech.edu/sites/default/files/css/css_GKirQI-ByBUf0TKgU1diSbj28eBa-8kg3cD8pSZjdKg.css                                                      400\n",
       "https://www.cc.gatech.edu/sites/default/files/js/js_G1sq4cEGnZktuYwRBbZv2JxZ9dgHgLHjpqB9d5rfIjg.js                                                         400\n",
       "https://www.cc.gatech.edu/sites/default/files/js/js_cF0PQeAVLuB7uJgTjVNgmUrdrI_zUkpq25mHJnMbl-c.js                                                         400\n",
       "https://www.cc.gatech.edu/sites/default/files/js/js_y57geBL-K47QfSLZFcl_jtxJKKl-i8yIkHt048E1tQc.js                                                         400\n",
       "https://www.cc.gatech.edu/sites/default/files/css/css_Gtkv7qD4TrcA8Dfa3E_yHC8eRt30NUcoVngttAMVTPk.css                                                      400\n",
       "https://www.cc.gatech.edu/sites/default/files/styles/horizontal_card_800x800_/public/images/homepage-squares1.png?itok=KyA1odje                            400\n",
       "https://www.cc.gatech.edu/sites/default/files/css/css_6B26-okik_zUFbhGSNDbJs2MxpMON1lXbdb52N-dsys.css                                                      400\n",
       "https://www.cc.gatech.edu/themes/contrib/gt_theme/images/gt-gold-chevron.svg                                                                               400\n",
       "https://www.cc.gatech.edu/themes/contrib/gt_theme/logo.svg                                                                                                 400\n",
       "https://www.cc.gatech.edu/sites/default/files/styles/horizontal_card_800x800_/public/images/CoC%20wireframes_homepage%20squares4.png?itok=2391aEoS         398\n",
       "https://www.cc.gatech.edu/sites/default/files/styles/home_page_hero_2250x900_/public/images/CoC%20homepage%20image%20900h%20-%20small.png?itok=FWbjsMip    398\n",
       "https://www.cc.gatech.edu/sites/default/files/styles/horizontal_card_800x800_/public/images/CoC%20wireframes_homepage%20squares5.png?itok=XMy-FxY2         397\n",
       "https://www.cc.gatech.edu/sites/default/files/styles/horizontal_card_800x800_/public/images/CoC%20wireframes_homepage%20squares2.png?itok=hEtW9Qn4         396\n",
       "https://www.cc.gatech.edu/modules/contrib/gt_tools/images/gt-logo.svg                                                                                      390\n",
       "https://www.cc.gatech.edu/sites/default/files/favicon.ico                                                                                                  148\n",
       "dtype: int64"
      ]
     },
     "execution_count": 20,
     "metadata": {},
     "output_type": "execute_result"
    }
   ],
   "source": [
    "\n",
    "url_pdf = gatech_processed.groupby('url').size().sort_values(ascending=False)\n",
    "url_pdf.head(20)"
   ]
  },
  {
   "cell_type": "code",
   "execution_count": null,
   "metadata": {},
   "outputs": [],
   "source": [
    "plot_urls = [\n",
    "    \"https://use.typekit.net/ymn0bgw.css\",\n",
    "    \"https://kit.fontawesome.com/37926dae7e.js\",\n",
    "    \"https://www.cc.gatech.edu/themes/contrib/gt_theme/logo.svg\",\n",
    "    \"https://www.cc.gatech.edu/sites/default/files/js/js_cF0PQeAVLuB7uJgTjVNgmUrdrI_zUkpq25mHJnMbl-c.js\"\n",
    "    # \"https://cs.uchicago.edu/wp-includes/css/dashicons.min.css?ver=5.9\",\n",
    "    # \"https://cs.uchicago.edu/wp-content/uploads/2022/01/2653-1600x900-1-527x332.jpeg\",\n",
    "    # \"https://cs.uchicago.edu/wp-content/themes/csuc/build/fonts/GothamNarrSSm-BookItalic_Web.woff2\"\n",
    "]\n",
    "\n",
    "frequency_pdfs = plot_frequencies(\n",
    "    gatech_processed,\n",
    "    plot_urls,\n",
    "    12*60*60,\n",
    "    240,\n",
    "    (0,7500),\n",
    "    (0,3)\n",
    ")"
   ]
  },
  {
   "cell_type": "code",
   "execution_count": null,
   "metadata": {},
   "outputs": [],
   "source": [
    "plot_urls = [\n",
    "    \"https://use.typekit.net/ymn0bgw.css\",\n",
    "    \"https://kit.fontawesome.com/37926dae7e.js\",\n",
    "    \"https://www.cc.gatech.edu/themes/contrib/gt_theme/logo.svg\",\n",
    "    \"https://www.cc.gatech.edu/sites/default/files/js/js_cF0PQeAVLuB7uJgTjVNgmUrdrI_zUkpq25mHJnMbl-c.js\"\n",
    "    # \"https://cs.uchicago.edu/wp-includes/css/dashicons.min.css?ver=5.9\",\n",
    "    # \"https://cs.uchicago.edu/wp-content/uploads/2022/01/2653-1600x900-1-527x332.jpeg\",\n",
    "    # \"https://cs.uchicago.edu/wp-content/themes/csuc/build/fonts/GothamNarrSSm-BookItalic_Web.woff2\"\n",
    "]\n",
    "\n",
    "frequency_pdfs = plot_frequencies(\n",
    "    gatech_processed,\n",
    "    plot_urls,\n",
    "    12*60*60,\n",
    "    240,\n",
    "    (0,7500),\n",
    "    (0,3)\n",
    ")"
   ]
  },
  {
   "cell_type": "code",
   "execution_count": null,
   "metadata": {},
   "outputs": [],
   "source": [
    "import torch.nn as nn\n",
    "import torch\n",
    "\n",
    "device = torch.device(\"cuda\" if torch.cuda.is_available() else \"cpu\")\n",
    "\n",
    "def gen_train(freq_pdf, seq_length):\n",
    "    series = freq_pdf['count_rolling'].to_numpy()\n",
    "    xs, ys = [], []\n",
    "    for i in range(len(series) - seq_length - 1):\n",
    "        xs.append(series[i:(i+seq_length)])\n",
    "        ys.append(series[i+seq_length])\n",
    "        \n",
    "    return torch.from_numpy(np.array(xs)).float().to(device).unsqueeze(-1), torch.from_numpy(np.array(ys)).float().to(device)\n",
    "\n",
    "class LSTM(nn.Module):\n",
    "    def __init__(self, input_size, hidden_size, num_layers, output_size):\n",
    "        super(LSTM, self).__init__()\n",
    "        self.hidden_size = hidden_size\n",
    "        self.num_layers = num_layers\n",
    "        \n",
    "        self.lstm = nn.LSTM(input_size=input_size, hidden_size=hidden_size, num_layers=num_layers, batch_first=True, dropout=0.3)\n",
    "        self.fc = nn.Linear(hidden_size, output_size)\n",
    "        \n",
    "        for name, param in self.lstm.named_parameters():\n",
    "            if 'bias' in name:\n",
    "                nn.init.constant(param, 0.0)\n",
    "            elif 'weight' in name:\n",
    "                nn.init.xavier_normal(param)\n",
    "                \n",
    "    def forward(self, x):\n",
    "        out, _ = self.lstm(x)\n",
    "        out = self.fc(out[:, -1, :])\n",
    "        return out\n",
    "\n",
    "input_size = 1\n",
    "hidden_size = 4\n",
    "num_layers = 2\n",
    "output_size = 1\n",
    "model = LSTM(input_size, hidden_size, num_layers, output_size).to(device)\n",
    "\n",
    "learning_rate = 1e-3\n",
    "num_epochs = 20\n",
    "\n",
    "criteria = nn.MSELoss()\n",
    "optimizer = torch.optim.Adam(model.parameters(), lr=learning_rate)\n",
    "\n",
    "window_size=200\n",
    "X, Y = gen_train(frequency_pdfs[0], window_size)"
   ]
  },
  {
   "cell_type": "code",
   "execution_count": null,
   "metadata": {},
   "outputs": [],
   "source": [
    "test_np = frequency_pdfs[0]['count_rolling'].to_numpy()\n",
    "test_np[4200:4210]"
   ]
  },
  {
   "cell_type": "code",
   "execution_count": null,
   "metadata": {},
   "outputs": [],
   "source": [
    "from torch.utils.data import DataLoader, TensorDataset\n",
    "\n",
    "dataset_train = TensorDataset(X, Y)\n",
    "dataloader = DataLoader(dataset_train, batch_size=512, shuffle=True)"
   ]
  },
  {
   "cell_type": "code",
   "execution_count": null,
   "metadata": {},
   "outputs": [],
   "source": [
    "losses = []\n",
    "for epoch in range(num_epochs):\n",
    "    for id_batch, (x_batch, y_batch) in enumerate(dataloader):\n",
    "        # print(y_batch)\n",
    "        outputs = model(x_batch)\n",
    "        # print(outputs)\n",
    "        \n",
    "        y_batch = y_batch.reshape(outputs.shape)\n",
    "        \n",
    "        optimizer.zero_grad()\n",
    "        loss = criteria(outputs, y_batch) * 200\n",
    "        loss.backward()\n",
    "        optimizer.step()\n",
    "        \n",
    "    print(\"Epoch: {}/{}, Loss: {:.8f}\".format(epoch+1, num_epochs, loss.item()))\n",
    "    losses.append(loss.item())\n",
    "\n",
    "import matplotlib.pyplot as plt\n",
    "\n",
    "plt.plot(range(0, num_epochs), losses)"
   ]
  },
  {
   "cell_type": "code",
   "execution_count": null,
   "metadata": {},
   "outputs": [],
   "source": [
    "def infer_plot_pred(test_pdf):\n",
    "    test_X, test_Y = gen_train(test_pdf, window_size)\n",
    "\n",
    "    dataset_test = TensorDataset(X)\n",
    "    dataloader_test = DataLoader(dataset_test, batch_size=64)\n",
    "\n",
    "    y_test_preds = []\n",
    "    for id_batch, (x_batch) in enumerate(dataloader_test):\n",
    "        y_pred = model(x_batch[0])\n",
    "        y_pred = y_pred.flatten().cpu().tolist()\n",
    "        y_test_preds += y_pred\n",
    "    \n",
    "    plt.figure(figsize=(30, 4), dpi=200)\n",
    "    plt.plot(test_pdf['count_rolling'], label=\"True Freq\")\n",
    "    plt.plot([0]*window_size + y_test_preds, label=\"Prediction\")\n",
    "    plt.xlim((0,7500))\n",
    "    plt.ylim((0, 3))\n",
    "    plt.legend(loc='upper right')\n",
    "\n",
    "infer_plot_pred(frequency_pdfs[0])\n",
    "infer_plot_pred(frequency_pdfs[1])"
   ]
  },
  {
   "cell_type": "code",
   "execution_count": null,
   "metadata": {},
   "outputs": [],
   "source": [
    "plot_urls = [\n",
    "    \"https://cs.uchicago.edu/wp-content/themes/csuc/build/fonts/GothamNarrSSm-Black_Web.woff2\",\n",
    "    \"https://cs.uchicago.edu/\",\n",
    "    # \"https://cs.uchicago.edu/wp-includes/css/dashicons.min.css?ver=5.9\",\n",
    "    # \"https://cs.uchicago.edu/wp-content/uploads/2022/01/2653-1600x900-1-527x332.jpeg\",\n",
    "    # \"https://cs.uchicago.edu/wp-content/themes/csuc/build/fonts/GothamNarrSSm-BookItalic_Web.woff2\"\n",
    "]\n",
    "\n",
    "plot_frequencies(\n",
    "    test_pdf,\n",
    "    plot_urls,\n",
    "    mission_seconds,\n",
    "    240\n",
    ")"
   ]
  },
  {
   "cell_type": "code",
   "execution_count": null,
   "metadata": {},
   "outputs": [],
   "source": [
    "load_path = \"../data/cs.uchicago.edu/\"\n",
    "fpd = gen_feature(load_path)\n",
    "fpd.head(5)"
   ]
  }
 ],
 "metadata": {
  "kernelspec": {
   "display_name": "Python 3",
   "language": "python",
   "name": "python3"
  },
  "language_info": {
   "codemirror_mode": {
    "name": "ipython",
    "version": 3
   },
   "file_extension": ".py",
   "mimetype": "text/x-python",
   "name": "python",
   "nbconvert_exporter": "python",
   "pygments_lexer": "ipython3",
   "version": "3.10.11"
  }
 },
 "nbformat": 4,
 "nbformat_minor": 5
}

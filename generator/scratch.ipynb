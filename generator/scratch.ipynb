{
 "cells": [
  {
   "cell_type": "code",
   "execution_count": 1,
   "id": "initial_id",
   "metadata": {
    "ExecuteTime": {
     "end_time": "2023-11-08T06:40:26.445654200Z",
     "start_time": "2023-11-08T06:40:26.156439800Z"
    },
    "collapsed": true
   },
   "outputs": [],
   "source": [
    "import traceback\n",
    "\n",
    "from util import is_json, parse_har, write_har, get_driver, get_proxy\n",
    "from crawler import process_event\n",
    "from feature_gen import gen_feature\n",
    "from sampler import next_click, next_session, num_clicks\n",
    "from gen_types import Event, System\n",
    "\n",
    "%load_ext autoreload\n",
    "%autoreload 2"
   ]
  },
  {
   "cell_type": "code",
   "execution_count": 2,
   "id": "f829f5aba750c46e",
   "metadata": {
    "collapsed": false
   },
   "outputs": [
    {
     "ename": "NameError",
     "evalue": "name 'is_json' is not defined",
     "output_type": "error",
     "traceback": [
      "\u001b[0;31m---------------------------------------------------------------------------\u001b[0m",
      "\u001b[0;31mNameError\u001b[0m                                 Traceback (most recent call last)",
      "\u001b[1;32m/home/aaronmao/programming/mlsys-project/generator/scratch.ipynb Cell 2\u001b[0m line \u001b[0;36m2\n\u001b[1;32m      <a href='vscode-notebook-cell://ssh-remote%2Brog-laptop/home/aaronmao/programming/mlsys-project/generator/scratch.ipynb#W1sdnNjb2RlLXJlbW90ZQ%3D%3D?line=0'>1</a>\u001b[0m load_path \u001b[39m=\u001b[39m \u001b[39m\"\u001b[39m\u001b[39m../data/cs.uchicago.edu/\u001b[39m\u001b[39m\"\u001b[39m\n\u001b[0;32m----> <a href='vscode-notebook-cell://ssh-remote%2Brog-laptop/home/aaronmao/programming/mlsys-project/generator/scratch.ipynb#W1sdnNjb2RlLXJlbW90ZQ%3D%3D?line=1'>2</a>\u001b[0m fpd \u001b[39m=\u001b[39m gen_feature(load_path)\n\u001b[1;32m      <a href='vscode-notebook-cell://ssh-remote%2Brog-laptop/home/aaronmao/programming/mlsys-project/generator/scratch.ipynb#W1sdnNjb2RlLXJlbW90ZQ%3D%3D?line=2'>3</a>\u001b[0m fpd\u001b[39m.\u001b[39mhead(\u001b[39m5\u001b[39m)\n",
      "File \u001b[0;32m~/programming/mlsys-project/generator/feature_gen.py:26\u001b[0m, in \u001b[0;36mgen_feature\u001b[0;34m(site_data_path)\u001b[0m\n\u001b[1;32m     24\u001b[0m \u001b[39mdef\u001b[39;00m \u001b[39mgen_feature\u001b[39m(site_data_path):\n\u001b[1;32m     25\u001b[0m     feature_pd \u001b[39m=\u001b[39m pd\u001b[39m.\u001b[39mDataFrame([])\n\u001b[0;32m---> 26\u001b[0m     site_tups \u001b[39m=\u001b[39m recurse_find(site_data_path, site_data_path)\n\u001b[1;32m     28\u001b[0m     feature_list \u001b[39m=\u001b[39m [\u001b[39m'\u001b[39m\u001b[39mpath\u001b[39m\u001b[39m'\u001b[39m, \u001b[39m'\u001b[39m\u001b[39msize\u001b[39m\u001b[39m'\u001b[39m, \u001b[39m'\u001b[39m\u001b[39mtype\u001b[39m\u001b[39m'\u001b[39m]\n\u001b[1;32m     29\u001b[0m     feature_pd \u001b[39m=\u001b[39m pd\u001b[39m.\u001b[39mDataFrame(site_tups, columns\u001b[39m=\u001b[39mfeature_list)\n",
      "File \u001b[0;32m~/programming/mlsys-project/generator/feature_gen.py:14\u001b[0m, in \u001b[0;36mrecurse_find\u001b[0;34m(curr_path, base_path)\u001b[0m\n\u001b[1;32m     12\u001b[0m child_files \u001b[39m=\u001b[39m []\n\u001b[1;32m     13\u001b[0m \u001b[39mif\u001b[39;00m os\u001b[39m.\u001b[39mpath\u001b[39m.\u001b[39misdir(subpath):\n\u001b[0;32m---> 14\u001b[0m     child_files \u001b[39m+\u001b[39m\u001b[39m=\u001b[39m recurse_find(subpath, base_path)\n\u001b[1;32m     15\u001b[0m \u001b[39melse\u001b[39;00m:\n\u001b[1;32m     16\u001b[0m     \u001b[39m# This means that its a file\u001b[39;00m\n\u001b[1;32m     17\u001b[0m     content_type \u001b[39m=\u001b[39m \u001b[39m\"\u001b[39m\u001b[39mapplication/json\u001b[39m\u001b[39m\"\u001b[39m \u001b[39mif\u001b[39;00m is_json(subpath) \u001b[39melse\u001b[39;00m magic\u001b[39m.\u001b[39mfrom_file(subpath, mime\u001b[39m=\u001b[39m\u001b[39mTrue\u001b[39;00m)\n",
      "File \u001b[0;32m~/programming/mlsys-project/generator/feature_gen.py:17\u001b[0m, in \u001b[0;36mrecurse_find\u001b[0;34m(curr_path, base_path)\u001b[0m\n\u001b[1;32m     14\u001b[0m     child_files \u001b[39m+\u001b[39m\u001b[39m=\u001b[39m recurse_find(subpath, base_path)\n\u001b[1;32m     15\u001b[0m \u001b[39melse\u001b[39;00m:\n\u001b[1;32m     16\u001b[0m     \u001b[39m# This means that its a file\u001b[39;00m\n\u001b[0;32m---> 17\u001b[0m     content_type \u001b[39m=\u001b[39m \u001b[39m\"\u001b[39m\u001b[39mapplication/json\u001b[39m\u001b[39m\"\u001b[39m \u001b[39mif\u001b[39;00m is_json(subpath) \u001b[39melse\u001b[39;00m magic\u001b[39m.\u001b[39mfrom_file(subpath, mime\u001b[39m=\u001b[39m\u001b[39mTrue\u001b[39;00m)\n\u001b[1;32m     18\u001b[0m     child_files\u001b[39m.\u001b[39mappend((\u001b[39mstr\u001b[39m(subpath)\u001b[39m.\u001b[39mreplace(base_path, \u001b[39m\"\u001b[39m\u001b[39m\"\u001b[39m), os\u001b[39m.\u001b[39mpath\u001b[39m.\u001b[39mgetsize(subpath), content_type))\n\u001b[1;32m     20\u001b[0m all_files \u001b[39m+\u001b[39m\u001b[39m=\u001b[39m child_files\n",
      "\u001b[0;31mNameError\u001b[0m: name 'is_json' is not defined"
     ]
    }
   ],
   "source": [
    "load_path = \"../data/cs.uchicago.edu/\"\n",
    "fpd = gen_feature(load_path)\n",
    "fpd.head(5)"
   ]
  },
  {
   "cell_type": "code",
   "execution_count": 2,
   "metadata": {},
   "outputs": [
    {
     "name": "stderr",
     "output_type": "stream",
     "text": [
      "The geckodriver version (0.31.0) detected in PATH at /usr/local/bin/geckodriver might not be compatible with the detected firefox version (119.0); currently, geckodriver 0.33.0 is recommended for firefox 119.*, so it is advised to delete the driver in PATH and retry\n",
      "The geckodriver version (0.31.0) detected in PATH at /usr/local/bin/geckodriver might not be compatible with the detected firefox version (119.0); currently, geckodriver 0.33.0 is recommended for firefox 119.*, so it is advised to delete the driver in PATH and retry\n"
     ]
    },
    {
     "name": "stdout",
     "output_type": "stream",
     "text": [
      "Processing event time: 65.59077275163558, user 0, click 1, url https://cs.uchicago.edu\n",
      "Visiting page https://cs.uchicago.edu\n",
      "There are 161 clickable links on this page\n",
      "Processing event time: 85.47906024421883, user 1, click 7, url https://cs.uchicago.edu\n",
      "Visiting page https://cs.uchicago.edu\n",
      "There are 161 clickable links on this page\n",
      "Processing event time: 66.74701770372745, user 0, click 0, url https://cs.uchicago.edu/about/\n",
      "Visiting page https://cs.uchicago.edu/about/\n",
      "There are 122 clickable links on this page\n",
      "Processing event time: 87.51781142862639, user 1, click 6, url https://cs.uchicago.edu/about/our-building/\n",
      "Visiting page https://cs.uchicago.edu/about/our-building/\n",
      "There are 108 clickable links on this page\n",
      "Processing event time: 155.70001183630677, user 0, click 5, url https://cs.uchicago.edu/about/\n",
      "Processing event time: 88.66598187745862, user 1, click 5, url https://cs.uchicago.edu/message-from-the-chair/\n",
      "Visiting page https://cs.uchicago.edu/message-from-the-chair/\n",
      "There are 103 clickable links on this page\n",
      "Processing event time: 88.98404017464655, user 1, click 4, url https://cs.uchicago.edu/research/human-computer-interaction/\n",
      "Visiting page https://cs.uchicago.edu/research/human-computer-interaction/\n",
      "There are 160 clickable links on this page\n",
      "Processing event time: 89.98946393344305, user 1, click 3, url https://cs.uchicago.edu/academics/phd/joint-math-cs-phd/\n",
      "Visiting page https://cs.uchicago.edu/academics/phd/joint-math-cs-phd/\n",
      "There are 121 clickable links on this page\n",
      "Processing event time: 90.10809457076063, user 1, click 2, url https://cs.uchicago.edu/academics/admission/\n",
      "Visiting page https://cs.uchicago.edu/academics/admission/\n",
      "There are 136 clickable links on this page\n",
      "Processing event time: 92.33798089880892, user 1, click 1, url https://cs.uchicago.edu/academics/\n",
      "Visiting page https://cs.uchicago.edu/academics/\n",
      "There are 104 clickable links on this page\n",
      "Processing event time: 93.26428886020925, user 1, click 0, url https://cs.uchicago.edu/contact/\n",
      "Visiting page https://cs.uchicago.edu/contact/\n",
      "There are 98 clickable links on this page\n",
      "Processing event time: 144.47639642897272, user 1, click 1, url https://cs.uchicago.edu/contact/\n"
     ]
    }
   ],
   "source": [
    "# random_walk_page(driver, \"https://cs.uchicago.edu\", 5)\n",
    "# har = proxy.har # returns a HAR JSON blob\n",
    "\n",
    "num_worker = 1\n",
    "num_user = 2\n",
    "proxy, server = get_proxy(8080)\n",
    "drivers = []\n",
    "for i in range(0, num_user):\n",
    "    drivers.append(get_driver(proxy))\n",
    "    \n",
    "sys = System(120, \"https://cs.uchicago.edu\")\n",
    "sys.init_mq(num_user)\n",
    "\n",
    "while len(sys.mq) != 0:\n",
    "    curr_event = sys.pop_event()\n",
    "    print(\"Processing event {}\".format(curr_event))\n",
    "    process_event(drivers[curr_event.user], proxy, curr_event, sys)\n",
    "\n",
    "for i in range(0, num_user):\n",
    "    drivers[i].quit()\n",
    "server.stop()\n",
    "# try:\n",
    "#     random_walk_page(driver, \"https://cs.uchicago.edu\", 5)\n",
    "# except:\n",
    "#     traceback.print_exc()\n",
    "# finally:\n",
    "#     server.stop()\n",
    "#     driver.quit()"
   ]
  },
  {
   "cell_type": "code",
   "execution_count": null,
   "metadata": {},
   "outputs": [],
   "source": []
  }
 ],
 "metadata": {
  "kernelspec": {
   "display_name": "Python 3",
   "language": "python",
   "name": "python3"
  },
  "language_info": {
   "codemirror_mode": {
    "name": "ipython",
    "version": 3
   },
   "file_extension": ".py",
   "mimetype": "text/x-python",
   "name": "python",
   "nbconvert_exporter": "python",
   "pygments_lexer": "ipython3",
   "version": "3.10.11"
  }
 },
 "nbformat": 4,
 "nbformat_minor": 5
}

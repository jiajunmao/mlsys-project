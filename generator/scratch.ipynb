{
 "cells": [
  {
   "cell_type": "code",
   "execution_count": 5,
   "id": "initial_id",
   "metadata": {
    "ExecuteTime": {
     "end_time": "2023-11-08T06:40:26.445654200Z",
     "start_time": "2023-11-08T06:40:26.156439800Z"
    },
    "collapsed": true
   },
   "outputs": [
    {
     "name": "stdout",
     "output_type": "stream",
     "text": [
      "The autoreload extension is already loaded. To reload it, use:\n",
      "  %reload_ext autoreload\n"
     ]
    }
   ],
   "source": [
    "import numpy as np\n",
    "import traceback\n",
    "import concurrent.futures\n",
    "import datetime\n",
    "from matplotlib import pyplot as plt\n",
    "from concurrent.futures import ThreadPoolExecutor\n",
    "from browsermobproxy import Client\n",
    "from selenium import webdriver\n",
    "from typing import List\n",
    "\n",
    "from util import is_json, parse_har, write_har, get_driver, get_proxy\n",
    "from crawler import process_event\n",
    "from feature_gen import gen_feature\n",
    "from gen_types import Event, System\n",
    "\n",
    "%load_ext autoreload\n",
    "%autoreload 2"
   ]
  },
  {
   "cell_type": "code",
   "execution_count": 6,
   "metadata": {},
   "outputs": [],
   "source": [
    "def worker(sys: System, drivers: List[webdriver.Firefox], proxy: Client, worker_idx: int):\n",
    "    while len(sys.mq) != 0:\n",
    "        curr_event = sys.pop_event()\n",
    "        # print(\"Processing event {}\".format(curr_event))\n",
    "        process_event(drivers[worker_idx], proxy, curr_event, sys)"
   ]
  },
  {
   "cell_type": "code",
   "execution_count": 7,
   "metadata": {},
   "outputs": [],
   "source": [
    "# ---------------------\n",
    "num_worker = 36\n",
    "num_user = 500\n",
    "mission_hour = 4\n",
    "# ---------------------\n",
    "\n",
    "mission_minutes = 5*60\n",
    "mission_seconds = 5*60*60"
   ]
  },
  {
   "cell_type": "code",
   "execution_count": 8,
   "metadata": {},
   "outputs": [
    {
     "name": "stderr",
     "output_type": "stream",
     "text": [
      "The geckodriver version (0.31.0) detected in PATH at /usr/local/bin/geckodriver might not be compatible with the detected firefox version (119.0); currently, geckodriver 0.33.0 is recommended for firefox 119.*, so it is advised to delete the driver in PATH and retry\n",
      "The geckodriver version (0.31.0) detected in PATH at /usr/local/bin/geckodriver might not be compatible with the detected firefox version (119.0); currently, geckodriver 0.33.0 is recommended for firefox 119.*, so it is advised to delete the driver in PATH and retry\n",
      "The geckodriver version (0.31.0) detected in PATH at /usr/local/bin/geckodriver might not be compatible with the detected firefox version (119.0); currently, geckodriver 0.33.0 is recommended for firefox 119.*, so it is advised to delete the driver in PATH and retry\n",
      "The geckodriver version (0.31.0) detected in PATH at /usr/local/bin/geckodriver might not be compatible with the detected firefox version (119.0); currently, geckodriver 0.33.0 is recommended for firefox 119.*, so it is advised to delete the driver in PATH and retry\n",
      "The geckodriver version (0.31.0) detected in PATH at /usr/local/bin/geckodriver might not be compatible with the detected firefox version (119.0); currently, geckodriver 0.33.0 is recommended for firefox 119.*, so it is advised to delete the driver in PATH and retry\n",
      "The geckodriver version (0.31.0) detected in PATH at /usr/local/bin/geckodriver might not be compatible with the detected firefox version (119.0); currently, geckodriver 0.33.0 is recommended for firefox 119.*, so it is advised to delete the driver in PATH and retry\n",
      "The geckodriver version (0.31.0) detected in PATH at /usr/local/bin/geckodriver might not be compatible with the detected firefox version (119.0); currently, geckodriver 0.33.0 is recommended for firefox 119.*, so it is advised to delete the driver in PATH and retry\n",
      "The geckodriver version (0.31.0) detected in PATH at /usr/local/bin/geckodriver might not be compatible with the detected firefox version (119.0); currently, geckodriver 0.33.0 is recommended for firefox 119.*, so it is advised to delete the driver in PATH and retry\n",
      "The geckodriver version (0.31.0) detected in PATH at /usr/local/bin/geckodriver might not be compatible with the detected firefox version (119.0); currently, geckodriver 0.33.0 is recommended for firefox 119.*, so it is advised to delete the driver in PATH and retry\n",
      "The geckodriver version (0.31.0) detected in PATH at /usr/local/bin/geckodriver might not be compatible with the detected firefox version (119.0); currently, geckodriver 0.33.0 is recommended for firefox 119.*, so it is advised to delete the driver in PATH and retry\n",
      "The geckodriver version (0.31.0) detected in PATH at /usr/local/bin/geckodriver might not be compatible with the detected firefox version (119.0); currently, geckodriver 0.33.0 is recommended for firefox 119.*, so it is advised to delete the driver in PATH and retry\n",
      "The geckodriver version (0.31.0) detected in PATH at /usr/local/bin/geckodriver might not be compatible with the detected firefox version (119.0); currently, geckodriver 0.33.0 is recommended for firefox 119.*, so it is advised to delete the driver in PATH and retry\n",
      "The geckodriver version (0.31.0) detected in PATH at /usr/local/bin/geckodriver might not be compatible with the detected firefox version (119.0); currently, geckodriver 0.33.0 is recommended for firefox 119.*, so it is advised to delete the driver in PATH and retry\n",
      "The geckodriver version (0.31.0) detected in PATH at /usr/local/bin/geckodriver might not be compatible with the detected firefox version (119.0); currently, geckodriver 0.33.0 is recommended for firefox 119.*, so it is advised to delete the driver in PATH and retry\n",
      "The geckodriver version (0.31.0) detected in PATH at /usr/local/bin/geckodriver might not be compatible with the detected firefox version (119.0); currently, geckodriver 0.33.0 is recommended for firefox 119.*, so it is advised to delete the driver in PATH and retry\n",
      "The geckodriver version (0.31.0) detected in PATH at /usr/local/bin/geckodriver might not be compatible with the detected firefox version (119.0); currently, geckodriver 0.33.0 is recommended for firefox 119.*, so it is advised to delete the driver in PATH and retry\n",
      "The geckodriver version (0.31.0) detected in PATH at /usr/local/bin/geckodriver might not be compatible with the detected firefox version (119.0); currently, geckodriver 0.33.0 is recommended for firefox 119.*, so it is advised to delete the driver in PATH and retry\n",
      "The geckodriver version (0.31.0) detected in PATH at /usr/local/bin/geckodriver might not be compatible with the detected firefox version (119.0); currently, geckodriver 0.33.0 is recommended for firefox 119.*, so it is advised to delete the driver in PATH and retry\n",
      "The geckodriver version (0.31.0) detected in PATH at /usr/local/bin/geckodriver might not be compatible with the detected firefox version (119.0); currently, geckodriver 0.33.0 is recommended for firefox 119.*, so it is advised to delete the driver in PATH and retry\n",
      "The geckodriver version (0.31.0) detected in PATH at /usr/local/bin/geckodriver might not be compatible with the detected firefox version (119.0); currently, geckodriver 0.33.0 is recommended for firefox 119.*, so it is advised to delete the driver in PATH and retry\n",
      "The geckodriver version (0.31.0) detected in PATH at /usr/local/bin/geckodriver might not be compatible with the detected firefox version (119.0); currently, geckodriver 0.33.0 is recommended for firefox 119.*, so it is advised to delete the driver in PATH and retry\n",
      "The geckodriver version (0.31.0) detected in PATH at /usr/local/bin/geckodriver might not be compatible with the detected firefox version (119.0); currently, geckodriver 0.33.0 is recommended for firefox 119.*, so it is advised to delete the driver in PATH and retry\n",
      "The geckodriver version (0.31.0) detected in PATH at /usr/local/bin/geckodriver might not be compatible with the detected firefox version (119.0); currently, geckodriver 0.33.0 is recommended for firefox 119.*, so it is advised to delete the driver in PATH and retry\n",
      "The geckodriver version (0.31.0) detected in PATH at /usr/local/bin/geckodriver might not be compatible with the detected firefox version (119.0); currently, geckodriver 0.33.0 is recommended for firefox 119.*, so it is advised to delete the driver in PATH and retry\n",
      "The geckodriver version (0.31.0) detected in PATH at /usr/local/bin/geckodriver might not be compatible with the detected firefox version (119.0); currently, geckodriver 0.33.0 is recommended for firefox 119.*, so it is advised to delete the driver in PATH and retry\n",
      "The geckodriver version (0.31.0) detected in PATH at /usr/local/bin/geckodriver might not be compatible with the detected firefox version (119.0); currently, geckodriver 0.33.0 is recommended for firefox 119.*, so it is advised to delete the driver in PATH and retry\n",
      "The geckodriver version (0.31.0) detected in PATH at /usr/local/bin/geckodriver might not be compatible with the detected firefox version (119.0); currently, geckodriver 0.33.0 is recommended for firefox 119.*, so it is advised to delete the driver in PATH and retry\n",
      "The geckodriver version (0.31.0) detected in PATH at /usr/local/bin/geckodriver might not be compatible with the detected firefox version (119.0); currently, geckodriver 0.33.0 is recommended for firefox 119.*, so it is advised to delete the driver in PATH and retry\n",
      "The geckodriver version (0.31.0) detected in PATH at /usr/local/bin/geckodriver might not be compatible with the detected firefox version (119.0); currently, geckodriver 0.33.0 is recommended for firefox 119.*, so it is advised to delete the driver in PATH and retry\n",
      "The geckodriver version (0.31.0) detected in PATH at /usr/local/bin/geckodriver might not be compatible with the detected firefox version (119.0); currently, geckodriver 0.33.0 is recommended for firefox 119.*, so it is advised to delete the driver in PATH and retry\n",
      "The geckodriver version (0.31.0) detected in PATH at /usr/local/bin/geckodriver might not be compatible with the detected firefox version (119.0); currently, geckodriver 0.33.0 is recommended for firefox 119.*, so it is advised to delete the driver in PATH and retry\n",
      "The geckodriver version (0.31.0) detected in PATH at /usr/local/bin/geckodriver might not be compatible with the detected firefox version (119.0); currently, geckodriver 0.33.0 is recommended for firefox 119.*, so it is advised to delete the driver in PATH and retry\n",
      "The geckodriver version (0.31.0) detected in PATH at /usr/local/bin/geckodriver might not be compatible with the detected firefox version (119.0); currently, geckodriver 0.33.0 is recommended for firefox 119.*, so it is advised to delete the driver in PATH and retry\n",
      "The geckodriver version (0.31.0) detected in PATH at /usr/local/bin/geckodriver might not be compatible with the detected firefox version (119.0); currently, geckodriver 0.33.0 is recommended for firefox 119.*, so it is advised to delete the driver in PATH and retry\n",
      "The geckodriver version (0.31.0) detected in PATH at /usr/local/bin/geckodriver might not be compatible with the detected firefox version (119.0); currently, geckodriver 0.33.0 is recommended for firefox 119.*, so it is advised to delete the driver in PATH and retry\n",
      "The geckodriver version (0.31.0) detected in PATH at /usr/local/bin/geckodriver might not be compatible with the detected firefox version (119.0); currently, geckodriver 0.33.0 is recommended for firefox 119.*, so it is advised to delete the driver in PATH and retry\n",
      "Traceback (most recent call last):\n",
      "  File \"/home/aaronmao/programming/mlsys-project/generator/crawler.py\", line 21, in process_event\n",
      "    driver.get(event.path)\n",
      "  File \"/home/aaronmao/anaconda3/envs/31220/lib/python3.10/site-packages/selenium/webdriver/remote/webdriver.py\", line 356, in get\n",
      "    self.execute(Command.GET, {\"url\": url})\n",
      "  File \"/home/aaronmao/anaconda3/envs/31220/lib/python3.10/site-packages/selenium/webdriver/remote/webdriver.py\", line 347, in execute\n",
      "    self.error_handler.check_response(response)\n",
      "  File \"/home/aaronmao/anaconda3/envs/31220/lib/python3.10/site-packages/selenium/webdriver/remote/errorhandler.py\", line 229, in check_response\n",
      "    raise exception_class(message, screen, stacktrace)\n",
      "selenium.common.exceptions.WebDriverException: Message: Reached error page: about:neterror?e=connectionFailure&u=https%3A//cs.uchicago.edu/diversity/&c=UTF-8&d=Firefox%20can%E2%80%99t%20establish%20a%20connection%20to%20the%20server%20at%20cs.uchicago.edu.\n",
      "Stacktrace:\n",
      "RemoteError@chrome://remote/content/shared/RemoteError.sys.mjs:8:8\n",
      "WebDriverError@chrome://remote/content/shared/webdriver/Errors.sys.mjs:189:5\n",
      "UnknownError@chrome://remote/content/shared/webdriver/Errors.sys.mjs:768:5\n",
      "checkReadyState@chrome://remote/content/marionette/navigate.sys.mjs:58:24\n",
      "onNavigation@chrome://remote/content/marionette/navigate.sys.mjs:324:39\n",
      "emit@resource://gre/modules/EventEmitter.sys.mjs:154:20\n",
      "receiveMessage@chrome://remote/content/marionette/actors/MarionetteEventsParent.sys.mjs:33:25\n",
      "\n",
      "Traceback (most recent call last):\n",
      "  File \"/home/aaronmao/programming/mlsys-project/generator/crawler.py\", line 21, in process_event\n",
      "    driver.get(event.path)\n",
      "  File \"/home/aaronmao/anaconda3/envs/31220/lib/python3.10/site-packages/selenium/webdriver/remote/webdriver.py\", line 356, in get\n",
      "    self.execute(Command.GET, {\"url\": url})\n",
      "  File \"/home/aaronmao/anaconda3/envs/31220/lib/python3.10/site-packages/selenium/webdriver/remote/webdriver.py\", line 347, in execute\n",
      "    self.error_handler.check_response(response)\n",
      "  File \"/home/aaronmao/anaconda3/envs/31220/lib/python3.10/site-packages/selenium/webdriver/remote/errorhandler.py\", line 229, in check_response\n",
      "    raise exception_class(message, screen, stacktrace)\n",
      "selenium.common.exceptions.WebDriverException: Message: Reached error page: about:neterror?e=connectionFailure&u=https%3A//cs.uchicago.edu/about/our-building/&c=UTF-8&d=Firefox%20can%E2%80%99t%20establish%20a%20connection%20to%20the%20server%20at%20cs.uchicago.edu.\n",
      "Stacktrace:\n",
      "RemoteError@chrome://remote/content/shared/RemoteError.sys.mjs:8:8\n",
      "WebDriverError@chrome://remote/content/shared/webdriver/Errors.sys.mjs:189:5\n",
      "UnknownError@chrome://remote/content/shared/webdriver/Errors.sys.mjs:768:5\n",
      "checkReadyState@chrome://remote/content/marionette/navigate.sys.mjs:58:24\n",
      "onNavigation@chrome://remote/content/marionette/navigate.sys.mjs:324:39\n",
      "emit@resource://gre/modules/EventEmitter.sys.mjs:154:20\n",
      "receiveMessage@chrome://remote/content/marionette/actors/MarionetteEventsParent.sys.mjs:33:25\n",
      "\n",
      "Traceback (most recent call last):\n",
      "  File \"/home/aaronmao/programming/mlsys-project/generator/crawler.py\", line 21, in process_event\n",
      "    driver.get(event.path)\n",
      "  File \"/home/aaronmao/anaconda3/envs/31220/lib/python3.10/site-packages/selenium/webdriver/remote/webdriver.py\", line 356, in get\n",
      "    self.execute(Command.GET, {\"url\": url})\n",
      "  File \"/home/aaronmao/anaconda3/envs/31220/lib/python3.10/site-packages/selenium/webdriver/remote/webdriver.py\", line 347, in execute\n",
      "    self.error_handler.check_response(response)\n",
      "  File \"/home/aaronmao/anaconda3/envs/31220/lib/python3.10/site-packages/selenium/webdriver/remote/errorhandler.py\", line 229, in check_response\n",
      "    raise exception_class(message, screen, stacktrace)\n",
      "selenium.common.exceptions.WebDriverException: Message: Reached error page: about:neterror?e=connectionFailure&u=https%3A//cs.uchicago.edu/about/&c=UTF-8&d=Firefox%20can%E2%80%99t%20establish%20a%20connection%20to%20the%20server%20at%20cs.uchicago.edu.\n",
      "Stacktrace:\n",
      "RemoteError@chrome://remote/content/shared/RemoteError.sys.mjs:8:8\n",
      "WebDriverError@chrome://remote/content/shared/webdriver/Errors.sys.mjs:189:5\n",
      "UnknownError@chrome://remote/content/shared/webdriver/Errors.sys.mjs:768:5\n",
      "checkReadyState@chrome://remote/content/marionette/navigate.sys.mjs:58:24\n",
      "onNavigation@chrome://remote/content/marionette/navigate.sys.mjs:324:39\n",
      "emit@resource://gre/modules/EventEmitter.sys.mjs:154:20\n",
      "receiveMessage@chrome://remote/content/marionette/actors/MarionetteEventsParent.sys.mjs:33:25\n",
      "\n"
     ]
    }
   ],
   "source": [
    "# random_walk_page(driver, \"https://cs.uchicago.edu\", 5)\n",
    "# har = proxy.har # returns a HAR JSON blob\n",
    "proxy, server = get_proxy(8080)\n",
    "pool = ThreadPoolExecutor(num_worker)\n",
    "\n",
    "drivers = []\n",
    "for i in range(0, num_worker):\n",
    "    drivers.append(get_driver(proxy))\n",
    "    \n",
    "try:\n",
    "    sys = System(mission_minutes, \"https://cs.uchicago.edu\")\n",
    "    sys.init_mq(num_user)\n",
    "\n",
    "    futures = []\n",
    "    for worker_idx in range(num_worker):\n",
    "        futures.append(pool.submit(worker, sys, drivers, proxy, worker_idx))\n",
    "\n",
    "    for fut in futures:\n",
    "        fut.result()\n",
    "except:\n",
    "    traceback.print_exc()\n",
    "finally:\n",
    "    for i in range(0, num_worker):\n",
    "        drivers[i].quit()\n",
    "    server.stop()"
   ]
  },
  {
   "cell_type": "code",
   "execution_count": null,
   "metadata": {},
   "outputs": [],
   "source": [
    "aggregate_har = []\n",
    "for hars in sys.har_buffer:\n",
    "    aggregate_har += hars"
   ]
  },
  {
   "cell_type": "code",
   "execution_count": null,
   "metadata": {},
   "outputs": [],
   "source": [
    "test_pdf = parse_har(aggregate_har)\n",
    "test_pdf.sort_values(by=['start_time'])\n",
    "test_pdf.head(20)"
   ]
  },
  {
   "cell_type": "code",
   "execution_count": null,
   "metadata": {},
   "outputs": [],
   "source": [
    "test_pdf['relative'] = test_pdf.start_time.astype(np.int64) // 10 ** 9\n",
    "test_pdf['relative'] = test_pdf['relative'] - min(test_pdf['relative'])\n",
    "test_pdf.head(200)"
   ]
  },
  {
   "cell_type": "code",
   "execution_count": null,
   "metadata": {},
   "outputs": [],
   "source": [
    "load_path = \"../data/cs.uchicago.edu/\"\n",
    "fpd = gen_feature(load_path)\n",
    "fpd.head(5)"
   ]
  },
  {
   "cell_type": "code",
   "execution_count": null,
   "metadata": {},
   "outputs": [],
   "source": [
    "# Plot access pattern\n",
    "plot_url = 'https://cs.uchicago.edu/'\n",
    "plot_pdf = test_pdf[test_pdf['url'] == plot_url]\n",
    "plot_pdf.head(50)"
   ]
  },
  {
   "cell_type": "code",
   "execution_count": null,
   "metadata": {},
   "outputs": [],
   "source": []
  }
 ],
 "metadata": {
  "kernelspec": {
   "display_name": "Python 3",
   "language": "python",
   "name": "python3"
  },
  "language_info": {
   "codemirror_mode": {
    "name": "ipython",
    "version": 3
   },
   "file_extension": ".py",
   "mimetype": "text/x-python",
   "name": "python",
   "nbconvert_exporter": "python",
   "pygments_lexer": "ipython3",
   "version": "3.10.11"
  }
 },
 "nbformat": 4,
 "nbformat_minor": 5
}

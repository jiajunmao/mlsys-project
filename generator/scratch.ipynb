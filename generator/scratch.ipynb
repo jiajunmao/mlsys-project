{
 "cells": [
  {
   "cell_type": "code",
   "execution_count": 1,
   "id": "initial_id",
   "metadata": {
    "ExecuteTime": {
     "end_time": "2023-11-08T06:40:26.445654200Z",
     "start_time": "2023-11-08T06:40:26.156439800Z"
    },
    "collapsed": true
   },
   "outputs": [],
   "source": [
    "import traceback\n",
    "\n",
    "from util import is_json, parse_har, write_har, get_driver, get_proxy\n",
    "from crawler import process_event\n",
    "from feature_gen import gen_feature\n",
    "from sampler import next_click, next_session, num_clicks\n",
    "from gen_types import Event, System"
   ]
  },
  {
   "cell_type": "code",
   "execution_count": 2,
   "id": "f829f5aba750c46e",
   "metadata": {
    "collapsed": false
   },
   "outputs": [
    {
     "ename": "NameError",
     "evalue": "name 'is_json' is not defined",
     "output_type": "error",
     "traceback": [
      "\u001b[0;31m---------------------------------------------------------------------------\u001b[0m",
      "\u001b[0;31mNameError\u001b[0m                                 Traceback (most recent call last)",
      "\u001b[1;32m/home/aaronmao/programming/mlsys-project/generator/scratch.ipynb Cell 2\u001b[0m line \u001b[0;36m2\n\u001b[1;32m      <a href='vscode-notebook-cell://ssh-remote%2Brog-laptop/home/aaronmao/programming/mlsys-project/generator/scratch.ipynb#W1sdnNjb2RlLXJlbW90ZQ%3D%3D?line=0'>1</a>\u001b[0m load_path \u001b[39m=\u001b[39m \u001b[39m\"\u001b[39m\u001b[39m../data/cs.uchicago.edu/\u001b[39m\u001b[39m\"\u001b[39m\n\u001b[0;32m----> <a href='vscode-notebook-cell://ssh-remote%2Brog-laptop/home/aaronmao/programming/mlsys-project/generator/scratch.ipynb#W1sdnNjb2RlLXJlbW90ZQ%3D%3D?line=1'>2</a>\u001b[0m fpd \u001b[39m=\u001b[39m gen_feature(load_path)\n\u001b[1;32m      <a href='vscode-notebook-cell://ssh-remote%2Brog-laptop/home/aaronmao/programming/mlsys-project/generator/scratch.ipynb#W1sdnNjb2RlLXJlbW90ZQ%3D%3D?line=2'>3</a>\u001b[0m fpd\u001b[39m.\u001b[39mhead(\u001b[39m5\u001b[39m)\n",
      "File \u001b[0;32m~/programming/mlsys-project/generator/feature_gen.py:26\u001b[0m, in \u001b[0;36mgen_feature\u001b[0;34m(site_data_path)\u001b[0m\n\u001b[1;32m     24\u001b[0m \u001b[39mdef\u001b[39;00m \u001b[39mgen_feature\u001b[39m(site_data_path):\n\u001b[1;32m     25\u001b[0m     feature_pd \u001b[39m=\u001b[39m pd\u001b[39m.\u001b[39mDataFrame([])\n\u001b[0;32m---> 26\u001b[0m     site_tups \u001b[39m=\u001b[39m recurse_find(site_data_path, site_data_path)\n\u001b[1;32m     28\u001b[0m     feature_list \u001b[39m=\u001b[39m [\u001b[39m'\u001b[39m\u001b[39mpath\u001b[39m\u001b[39m'\u001b[39m, \u001b[39m'\u001b[39m\u001b[39msize\u001b[39m\u001b[39m'\u001b[39m, \u001b[39m'\u001b[39m\u001b[39mtype\u001b[39m\u001b[39m'\u001b[39m]\n\u001b[1;32m     29\u001b[0m     feature_pd \u001b[39m=\u001b[39m pd\u001b[39m.\u001b[39mDataFrame(site_tups, columns\u001b[39m=\u001b[39mfeature_list)\n",
      "File \u001b[0;32m~/programming/mlsys-project/generator/feature_gen.py:14\u001b[0m, in \u001b[0;36mrecurse_find\u001b[0;34m(curr_path, base_path)\u001b[0m\n\u001b[1;32m     12\u001b[0m child_files \u001b[39m=\u001b[39m []\n\u001b[1;32m     13\u001b[0m \u001b[39mif\u001b[39;00m os\u001b[39m.\u001b[39mpath\u001b[39m.\u001b[39misdir(subpath):\n\u001b[0;32m---> 14\u001b[0m     child_files \u001b[39m+\u001b[39m\u001b[39m=\u001b[39m recurse_find(subpath, base_path)\n\u001b[1;32m     15\u001b[0m \u001b[39melse\u001b[39;00m:\n\u001b[1;32m     16\u001b[0m     \u001b[39m# This means that its a file\u001b[39;00m\n\u001b[1;32m     17\u001b[0m     content_type \u001b[39m=\u001b[39m \u001b[39m\"\u001b[39m\u001b[39mapplication/json\u001b[39m\u001b[39m\"\u001b[39m \u001b[39mif\u001b[39;00m is_json(subpath) \u001b[39melse\u001b[39;00m magic\u001b[39m.\u001b[39mfrom_file(subpath, mime\u001b[39m=\u001b[39m\u001b[39mTrue\u001b[39;00m)\n",
      "File \u001b[0;32m~/programming/mlsys-project/generator/feature_gen.py:17\u001b[0m, in \u001b[0;36mrecurse_find\u001b[0;34m(curr_path, base_path)\u001b[0m\n\u001b[1;32m     14\u001b[0m     child_files \u001b[39m+\u001b[39m\u001b[39m=\u001b[39m recurse_find(subpath, base_path)\n\u001b[1;32m     15\u001b[0m \u001b[39melse\u001b[39;00m:\n\u001b[1;32m     16\u001b[0m     \u001b[39m# This means that its a file\u001b[39;00m\n\u001b[0;32m---> 17\u001b[0m     content_type \u001b[39m=\u001b[39m \u001b[39m\"\u001b[39m\u001b[39mapplication/json\u001b[39m\u001b[39m\"\u001b[39m \u001b[39mif\u001b[39;00m is_json(subpath) \u001b[39melse\u001b[39;00m magic\u001b[39m.\u001b[39mfrom_file(subpath, mime\u001b[39m=\u001b[39m\u001b[39mTrue\u001b[39;00m)\n\u001b[1;32m     18\u001b[0m     child_files\u001b[39m.\u001b[39mappend((\u001b[39mstr\u001b[39m(subpath)\u001b[39m.\u001b[39mreplace(base_path, \u001b[39m\"\u001b[39m\u001b[39m\"\u001b[39m), os\u001b[39m.\u001b[39mpath\u001b[39m.\u001b[39mgetsize(subpath), content_type))\n\u001b[1;32m     20\u001b[0m all_files \u001b[39m+\u001b[39m\u001b[39m=\u001b[39m child_files\n",
      "\u001b[0;31mNameError\u001b[0m: name 'is_json' is not defined"
     ]
    }
   ],
   "source": [
    "load_path = \"../data/cs.uchicago.edu/\"\n",
    "fpd = gen_feature(load_path)\n",
    "fpd.head(5)"
   ]
  },
  {
   "cell_type": "code",
   "execution_count": 5,
   "metadata": {},
   "outputs": [
    {
     "name": "stderr",
     "output_type": "stream",
     "text": [
      "The geckodriver version (0.31.0) detected in PATH at /usr/local/bin/geckodriver might not be compatible with the detected firefox version (119.0); currently, geckodriver 0.33.0 is recommended for firefox 119.*, so it is advised to delete the driver in PATH and retry\n"
     ]
    },
    {
     "name": "stderr",
     "output_type": "stream",
     "text": [
      "The geckodriver version (0.31.0) detected in PATH at /usr/local/bin/geckodriver might not be compatible with the detected firefox version (119.0); currently, geckodriver 0.33.0 is recommended for firefox 119.*, so it is advised to delete the driver in PATH and retry\n"
     ]
    },
    {
     "name": "stdout",
     "output_type": "stream",
     "text": [
      "Processing event time: 45.44102161980824, user 0, click 3, url https://cs.uchicago.edu\n",
      "Visiting page https://cs.uchicago.edu\n",
      "There are 161 clickable links on this page\n",
      "Processing event time: 46.995492818595366, user 1, click 4, url https://cs.uchicago.edu\n",
      "Visiting page https://cs.uchicago.edu\n",
      "There are 161 clickable links on this page\n",
      "Processing event time: 46.433022850172556, user 0, click 2, url https://cs.uchicago.edu/research/\n",
      "Visiting page https://cs.uchicago.edu/research/\n",
      "There are 131 clickable links on this page\n",
      "Processing event time: 47.82854632689008, user 1, click 3, url https://cs.uchicago.edu/research/\n",
      "Visiting page https://cs.uchicago.edu/research/\n",
      "There are 131 clickable links on this page\n",
      "Processing event time: 47.327305729568444, user 0, click 1, url https://cs.uchicago.edu/research/data-science/\n",
      "Visiting page https://cs.uchicago.edu/research/data-science/\n",
      "There are 165 clickable links on this page\n",
      "Processing event time: 49.125188996569946, user 1, click 2, url https://cs.uchicago.edu/people/uchicago-faculty/full-time-faculty/\n",
      "Visiting page https://cs.uchicago.edu/people/uchicago-faculty/full-time-faculty/\n",
      "There are 179 clickable links on this page\n",
      "Processing event time: 48.52728983489072, user 0, click 0, url https://cs.uchicago.edu/news/new-college-data-science-major-from-foundations-to-insight-to-impact/\n",
      "Visiting page https://cs.uchicago.edu/news/new-college-data-science-major-from-foundations-to-insight-to-impact/\n",
      "There are 120 clickable links on this page\n",
      "Processing event time: 50.1586528344677, user 1, click 1, url https://cs.uchicago.edu/people/laszlo-babai/\n",
      "Visiting page https://cs.uchicago.edu/people/laszlo-babai/\n",
      "There are 103 clickable links on this page\n",
      "Processing event time: 133.06689684617876, user 0, click 4, url https://cs.uchicago.edu/news/new-college-data-science-major-from-foundations-to-insight-to-impact/\n",
      "Processing event time: 51.426787410877395, user 1, click 0, url https://cs.uchicago.edu/academics/masters/capp/\n",
      "Visiting page https://cs.uchicago.edu/academics/masters/capp/\n",
      "There are 112 clickable links on this page\n",
      "Processing event time: 137.10078127868076, user 1, click 3, url https://cs.uchicago.edu/academics/masters/capp/\n"
     ]
    }
   ],
   "source": [
    "# random_walk_page(driver, \"https://cs.uchicago.edu\", 5)\n",
    "# har = proxy.har # returns a HAR JSON blob\n",
    "\n",
    "num_worker = 1\n",
    "num_user = 2\n",
    "proxy, server = get_proxy(8080)\n",
    "drivers = []\n",
    "for i in range(0, num_user):\n",
    "    drivers.append(get_driver(proxy))\n",
    "    \n",
    "sys = System(120, \"https://cs.uchicago.edu\")\n",
    "sys.init_mq(num_user)\n",
    "\n",
    "while len(sys.mq) != 0:\n",
    "    curr_event = sys.pop_event()\n",
    "    print(\"Processing event {}\".format(curr_event))\n",
    "    process_event(drivers[curr_event.user], proxy, curr_event, sys)\n",
    "\n",
    "for i in range(0, num_user):\n",
    "    drivers[i].quit()\n",
    "server.stop()\n",
    "# try:\n",
    "#     random_walk_page(driver, \"https://cs.uchicago.edu\", 5)\n",
    "# except:\n",
    "#     traceback.print_exc()\n",
    "# finally:\n",
    "#     server.stop()\n",
    "#     driver.quit()"
   ]
  },
  {
   "cell_type": "code",
   "execution_count": null,
   "metadata": {},
   "outputs": [],
   "source": [
    "NUM_USER = 1000\n",
    "\n",
    "# We need to generate NUM_USER amount of driver, each with their own code"
   ]
  },
  {
   "cell_type": "code",
   "execution_count": 18,
   "metadata": {},
   "outputs": [
    {
     "data": {
      "text/html": [
       "<div>\n",
       "<style scoped>\n",
       "    .dataframe tbody tr th:only-of-type {\n",
       "        vertical-align: middle;\n",
       "    }\n",
       "\n",
       "    .dataframe tbody tr th {\n",
       "        vertical-align: top;\n",
       "    }\n",
       "\n",
       "    .dataframe thead th {\n",
       "        text-align: right;\n",
       "    }\n",
       "</style>\n",
       "<table border=\"1\" class=\"dataframe\">\n",
       "  <thead>\n",
       "    <tr style=\"text-align: right;\">\n",
       "      <th></th>\n",
       "      <th>url</th>\n",
       "      <th>start_time</th>\n",
       "      <th>response_code</th>\n",
       "      <th>body_size</th>\n",
       "      <th>rtt</th>\n",
       "    </tr>\n",
       "  </thead>\n",
       "  <tbody>\n",
       "    <tr>\n",
       "      <th>0</th>\n",
       "      <td>https://cs.uchicago.edu/</td>\n",
       "      <td>2023-11-08T02:47:32.391-06:00</td>\n",
       "      <td>200</td>\n",
       "      <td>146844</td>\n",
       "      <td>354</td>\n",
       "    </tr>\n",
       "    <tr>\n",
       "      <th>1</th>\n",
       "      <td>https://tracking-protection.cdn.mozilla.net/ad...</td>\n",
       "      <td>2023-11-08T02:47:32.472-06:00</td>\n",
       "      <td>200</td>\n",
       "      <td>58902</td>\n",
       "      <td>92</td>\n",
       "    </tr>\n",
       "    <tr>\n",
       "      <th>2</th>\n",
       "      <td>https://tracking-protection.cdn.mozilla.net/so...</td>\n",
       "      <td>2023-11-08T02:47:32.496-06:00</td>\n",
       "      <td>200</td>\n",
       "      <td>2197</td>\n",
       "      <td>19</td>\n",
       "    </tr>\n",
       "    <tr>\n",
       "      <th>3</th>\n",
       "      <td>https://tracking-protection.cdn.mozilla.net/an...</td>\n",
       "      <td>2023-11-08T02:47:32.514-06:00</td>\n",
       "      <td>200</td>\n",
       "      <td>10838</td>\n",
       "      <td>14</td>\n",
       "    </tr>\n",
       "    <tr>\n",
       "      <th>4</th>\n",
       "      <td>https://tracking-protection.cdn.mozilla.net/co...</td>\n",
       "      <td>2023-11-08T02:47:32.530-06:00</td>\n",
       "      <td>200</td>\n",
       "      <td>15318</td>\n",
       "      <td>19</td>\n",
       "    </tr>\n",
       "    <tr>\n",
       "      <th>...</th>\n",
       "      <td>...</td>\n",
       "      <td>...</td>\n",
       "      <td>...</td>\n",
       "      <td>...</td>\n",
       "      <td>...</td>\n",
       "    </tr>\n",
       "    <tr>\n",
       "      <th>128</th>\n",
       "      <td>https://yt3.ggpht.com/ytc/APkrFKbaHXxA7cDMONvW...</td>\n",
       "      <td>2023-11-08T02:47:38.901-06:00</td>\n",
       "      <td>200</td>\n",
       "      <td>5289</td>\n",
       "      <td>174</td>\n",
       "    </tr>\n",
       "    <tr>\n",
       "      <th>129</th>\n",
       "      <td>https://www.google.com/js/th/87YGUa-CtHzGh2dX4...</td>\n",
       "      <td>2023-11-08T02:47:38.904-06:00</td>\n",
       "      <td>200</td>\n",
       "      <td>14760</td>\n",
       "      <td>110</td>\n",
       "    </tr>\n",
       "    <tr>\n",
       "      <th>130</th>\n",
       "      <td>https://www.google-analytics.com/g/collect?v=2...</td>\n",
       "      <td>2023-11-08T02:47:38.922-06:00</td>\n",
       "      <td>204</td>\n",
       "      <td>0</td>\n",
       "      <td>12</td>\n",
       "    </tr>\n",
       "    <tr>\n",
       "      <th>131</th>\n",
       "      <td>https://www.youtube.com/generate_204?cWHO2g</td>\n",
       "      <td>2023-11-08T02:47:38.959-06:00</td>\n",
       "      <td>204</td>\n",
       "      <td>0</td>\n",
       "      <td>2</td>\n",
       "    </tr>\n",
       "    <tr>\n",
       "      <th>132</th>\n",
       "      <td>https://static.doubleclick.net/instream/ad_sta...</td>\n",
       "      <td>2023-11-08T02:47:39.039-06:00</td>\n",
       "      <td>200</td>\n",
       "      <td>29</td>\n",
       "      <td>51</td>\n",
       "    </tr>\n",
       "  </tbody>\n",
       "</table>\n",
       "<p>133 rows × 5 columns</p>\n",
       "</div>"
      ],
      "text/plain": [
       "                                                   url  \\\n",
       "0                             https://cs.uchicago.edu/   \n",
       "1    https://tracking-protection.cdn.mozilla.net/ad...   \n",
       "2    https://tracking-protection.cdn.mozilla.net/so...   \n",
       "3    https://tracking-protection.cdn.mozilla.net/an...   \n",
       "4    https://tracking-protection.cdn.mozilla.net/co...   \n",
       "..                                                 ...   \n",
       "128  https://yt3.ggpht.com/ytc/APkrFKbaHXxA7cDMONvW...   \n",
       "129  https://www.google.com/js/th/87YGUa-CtHzGh2dX4...   \n",
       "130  https://www.google-analytics.com/g/collect?v=2...   \n",
       "131        https://www.youtube.com/generate_204?cWHO2g   \n",
       "132  https://static.doubleclick.net/instream/ad_sta...   \n",
       "\n",
       "                        start_time  response_code  body_size  rtt  \n",
       "0    2023-11-08T02:47:32.391-06:00            200     146844  354  \n",
       "1    2023-11-08T02:47:32.472-06:00            200      58902   92  \n",
       "2    2023-11-08T02:47:32.496-06:00            200       2197   19  \n",
       "3    2023-11-08T02:47:32.514-06:00            200      10838   14  \n",
       "4    2023-11-08T02:47:32.530-06:00            200      15318   19  \n",
       "..                             ...            ...        ...  ...  \n",
       "128  2023-11-08T02:47:38.901-06:00            200       5289  174  \n",
       "129  2023-11-08T02:47:38.904-06:00            200      14760  110  \n",
       "130  2023-11-08T02:47:38.922-06:00            204          0   12  \n",
       "131  2023-11-08T02:47:38.959-06:00            204          0    2  \n",
       "132  2023-11-08T02:47:39.039-06:00            200         29   51  \n",
       "\n",
       "[133 rows x 5 columns]"
      ]
     },
     "execution_count": 18,
     "metadata": {},
     "output_type": "execute_result"
    }
   ],
   "source": [
    "parse_har(har)"
   ]
  }
 ],
 "metadata": {
  "kernelspec": {
   "display_name": "Python 3",
   "language": "python",
   "name": "python3"
  },
  "language_info": {
   "codemirror_mode": {
    "name": "ipython",
    "version": 3
   },
   "file_extension": ".py",
   "mimetype": "text/x-python",
   "name": "python",
   "nbconvert_exporter": "python",
   "pygments_lexer": "ipython3",
   "version": "3.10.11"
  }
 },
 "nbformat": 4,
 "nbformat_minor": 5
}

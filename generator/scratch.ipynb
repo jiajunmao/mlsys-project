{
 "cells": [
  {
   "cell_type": "code",
   "execution_count": null,
   "id": "initial_id",
   "metadata": {
    "ExecuteTime": {
     "end_time": "2023-11-08T06:40:26.445654200Z",
     "start_time": "2023-11-08T06:40:26.156439800Z"
    },
    "collapsed": true
   },
   "outputs": [],
   "source": [
    "import numpy as np\n",
    "import pandas as pd\n",
    "import pickle\n",
    "import torch\n",
    "\n",
    "from util import is_json, parse_har, write_har, postprocess_har\n",
    "from trace_gen import process_event, gen_trace\n",
    "from feature_gen import gen_feature\n",
    "from gen_types import Event, System\n",
    "from plotter import plot_frequencies\n",
    "\n",
    "%load_ext autoreload\n",
    "%autoreload 2"
   ]
  },
  {
   "cell_type": "code",
   "execution_count": null,
   "metadata": {},
   "outputs": [],
   "source": [
    "torch.__version__"
   ]
  },
  {
   "cell_type": "code",
   "execution_count": null,
   "metadata": {},
   "outputs": [],
   "source": [
    "# ---------------------\n",
    "num_worker = 1\n",
    "num_user = 1\n",
    "mission_hour = 1\n",
    "# ---------------------\n",
    "\n",
    "mission_minutes = mission_hour*60\n",
    "mission_seconds = mission_hour*60*60\n",
    "\n",
    "# ---------------------\n",
    "\n",
    "aggregate_har, sys = gen_trace(num_user, mission_minutes, num_worker)"
   ]
  },
  {
   "cell_type": "code",
   "execution_count": null,
   "metadata": {},
   "outputs": [],
   "source": [
    "test_pdf = postprocess_har(aggregate_har)\n",
    "\n",
    "f = open(\"user_{}_hour_{}_cs.uchicago.edu.pandas\".format(num_user, mission_hour), \"wb\")\n",
    "pickle.dump(test_pdf, f)\n",
    "f.close()"
   ]
  },
  {
   "cell_type": "code",
   "execution_count": null,
   "metadata": {},
   "outputs": [],
   "source": [
    "url_pdf = test_pdf.groupby('url').size().sort_values(ascending=False)\n",
    "url_pdf.head(50)"
   ]
  },
  {
   "cell_type": "code",
   "execution_count": null,
   "metadata": {},
   "outputs": [],
   "source": [
    "# Load the HAR dict pickle file\n",
    "gatech_har = pickle.load(open(\"user_2000_hour_12_cc.gatech.edu.har\", \"rb\"))"
   ]
  },
  {
   "cell_type": "code",
   "execution_count": null,
   "metadata": {},
   "outputs": [],
   "source": [
    "gatech_processed = postprocess_har(gatech_har)"
   ]
  },
  {
   "cell_type": "code",
   "execution_count": null,
   "metadata": {},
   "outputs": [],
   "source": [
    "pd.set_option('display.max_rows', None)\n",
    "\n",
    "url_pdf = gatech_processed.groupby('url').size().sort_values(ascending=False)\n",
    "print(url_pdf)"
   ]
  },
  {
   "cell_type": "code",
   "execution_count": null,
   "metadata": {},
   "outputs": [],
   "source": [
    "plot_urls = [\n",
    "    \"https://use.typekit.net/ymn0bgw.css\",\n",
    "    \"https://kit.fontawesome.com/37926dae7e.js\",\n",
    "    \"https://www.cc.gatech.edu/themes/contrib/gt_theme/logo.svg\",\n",
    "    \"https://www.cc.gatech.edu/sites/default/files/js/js_cF0PQeAVLuB7uJgTjVNgmUrdrI_zUkpq25mHJnMbl-c.js\"\n",
    "    # \"https://cs.uchicago.edu/wp-includes/css/dashicons.min.css?ver=5.9\",\n",
    "    # \"https://cs.uchicago.edu/wp-content/uploads/2022/01/2653-1600x900-1-527x332.jpeg\",\n",
    "    # \"https://cs.uchicago.edu/wp-content/themes/csuc/build/fonts/GothamNarrSSm-BookItalic_Web.woff2\"\n",
    "]\n",
    "\n",
    "frequency_pdfs = plot_frequencies(\n",
    "    gatech_processed,\n",
    "    plot_urls,\n",
    "    12*60*60,\n",
    "    240,\n",
    "    (0,7500),\n",
    "    (0,3)\n",
    ")"
   ]
  },
  {
   "cell_type": "code",
   "execution_count": null,
   "metadata": {},
   "outputs": [],
   "source": [
    "plot_urls = [\n",
    "    \"https://use.typekit.net/ymn0bgw.css\",\n",
    "    \"https://kit.fontawesome.com/37926dae7e.js\",\n",
    "    \"https://www.cc.gatech.edu/themes/contrib/gt_theme/logo.svg\",\n",
    "    \"https://www.cc.gatech.edu/sites/default/files/js/js_cF0PQeAVLuB7uJgTjVNgmUrdrI_zUkpq25mHJnMbl-c.js\"\n",
    "    # \"https://cs.uchicago.edu/wp-includes/css/dashicons.min.css?ver=5.9\",\n",
    "    # \"https://cs.uchicago.edu/wp-content/uploads/2022/01/2653-1600x900-1-527x332.jpeg\",\n",
    "    # \"https://cs.uchicago.edu/wp-content/themes/csuc/build/fonts/GothamNarrSSm-BookItalic_Web.woff2\"\n",
    "]\n",
    "\n",
    "frequency_pdfs = plot_frequencies(\n",
    "    gatech_processed,\n",
    "    plot_urls,\n",
    "    12*60*60,\n",
    "    240,\n",
    "    (0,7500),\n",
    "    (0,3)\n",
    ")"
   ]
  },
  {
   "cell_type": "code",
   "execution_count": null,
   "metadata": {},
   "outputs": [],
   "source": [
    "import torch.nn as nn\n",
    "import torch\n",
    "\n",
    "device = torch.device(\"cuda\" if torch.cuda.is_available() else \"cpu\")\n",
    "\n",
    "def gen_train(freq_pdf, seq_length):\n",
    "    series = freq_pdf['count_rolling'].to_numpy()\n",
    "    xs, ys = [], []\n",
    "    for i in range(len(series) - seq_length - 1):\n",
    "        xs.append(series[i:(i+seq_length)])\n",
    "        ys.append(series[i+seq_length])\n",
    "        \n",
    "    return torch.from_numpy(np.array(xs)).float().to(device).unsqueeze(-1), torch.from_numpy(np.array(ys)).float().to(device)\n",
    "\n",
    "class LSTM(nn.Module):\n",
    "    def __init__(self, input_size, hidden_size, num_layers, output_size):\n",
    "        super(LSTM, self).__init__()\n",
    "        self.hidden_size = hidden_size\n",
    "        self.num_layers = num_layers\n",
    "        \n",
    "        self.lstm = nn.LSTM(input_size=input_size, hidden_size=hidden_size, num_layers=num_layers, batch_first=True, dropout=0.3)\n",
    "        self.fc = nn.Linear(hidden_size, output_size)\n",
    "        \n",
    "        for name, param in self.lstm.named_parameters():\n",
    "            if 'bias' in name:\n",
    "                nn.init.constant(param, 0.0)\n",
    "            elif 'weight' in name:\n",
    "                nn.init.xavier_normal(param)\n",
    "                \n",
    "    def forward(self, x):\n",
    "        out, _ = self.lstm(x)\n",
    "        out = self.fc(out[:, -1, :])\n",
    "        return out\n",
    "\n",
    "input_size = 1\n",
    "hidden_size = 4\n",
    "num_layers = 2\n",
    "output_size = 1\n",
    "model = LSTM(input_size, hidden_size, num_layers, output_size).to(device)\n",
    "\n",
    "learning_rate = 1e-3\n",
    "num_epochs = 20\n",
    "\n",
    "criteria = nn.MSELoss()\n",
    "optimizer = torch.optim.Adam(model.parameters(), lr=learning_rate)\n",
    "\n",
    "window_size=200\n",
    "X, Y = gen_train(frequency_pdfs[0], window_size)"
   ]
  },
  {
   "cell_type": "code",
   "execution_count": null,
   "metadata": {},
   "outputs": [],
   "source": [
    "test_np = frequency_pdfs[0]['count_rolling'].to_numpy()\n",
    "test_np[4200:4210]"
   ]
  },
  {
   "cell_type": "code",
   "execution_count": null,
   "metadata": {},
   "outputs": [],
   "source": [
    "from torch.utils.data import DataLoader, TensorDataset\n",
    "\n",
    "dataset_train = TensorDataset(X, Y)\n",
    "dataloader = DataLoader(dataset_train, batch_size=512, shuffle=True)"
   ]
  },
  {
   "cell_type": "code",
   "execution_count": null,
   "metadata": {},
   "outputs": [],
   "source": [
    "losses = []\n",
    "for epoch in range(num_epochs):\n",
    "    for id_batch, (x_batch, y_batch) in enumerate(dataloader):\n",
    "        # print(y_batch)\n",
    "        outputs = model(x_batch)\n",
    "        # print(outputs)\n",
    "        \n",
    "        y_batch = y_batch.reshape(outputs.shape)\n",
    "        \n",
    "        optimizer.zero_grad()\n",
    "        loss = criteria(outputs, y_batch) * 200\n",
    "        loss.backward()\n",
    "        optimizer.step()\n",
    "        \n",
    "    print(\"Epoch: {}/{}, Loss: {:.8f}\".format(epoch+1, num_epochs, loss.item()))\n",
    "    losses.append(loss.item())\n",
    "\n",
    "import matplotlib.pyplot as plt\n",
    "\n",
    "plt.plot(range(0, num_epochs), losses)"
   ]
  },
  {
   "cell_type": "code",
   "execution_count": null,
   "metadata": {},
   "outputs": [],
   "source": [
    "def infer_plot_pred(test_pdf):\n",
    "    test_X, test_Y = gen_train(test_pdf, window_size)\n",
    "\n",
    "    dataset_test = TensorDataset(X)\n",
    "    dataloader_test = DataLoader(dataset_test, batch_size=64)\n",
    "\n",
    "    y_test_preds = []\n",
    "    for id_batch, (x_batch) in enumerate(dataloader_test):\n",
    "        y_pred = model(x_batch[0])\n",
    "        y_pred = y_pred.flatten().cpu().tolist()\n",
    "        y_test_preds += y_pred\n",
    "    \n",
    "    plt.figure(figsize=(30, 4), dpi=200)\n",
    "    plt.plot(test_pdf['count_rolling'], label=\"True Freq\")\n",
    "    plt.plot([0]*window_size + y_test_preds, label=\"Prediction\")\n",
    "    plt.xlim((0,7500))\n",
    "    plt.ylim((0, 3))\n",
    "    plt.legend(loc='upper right')\n",
    "\n",
    "infer_plot_pred(frequency_pdfs[0])\n",
    "infer_plot_pred(frequency_pdfs[1])"
   ]
  },
  {
   "cell_type": "code",
   "execution_count": null,
   "metadata": {},
   "outputs": [],
   "source": [
    "plot_urls = [\n",
    "    \"https://cs.uchicago.edu/wp-content/themes/csuc/build/fonts/GothamNarrSSm-Black_Web.woff2\",\n",
    "    \"https://cs.uchicago.edu/\",\n",
    "    # \"https://cs.uchicago.edu/wp-includes/css/dashicons.min.css?ver=5.9\",\n",
    "    # \"https://cs.uchicago.edu/wp-content/uploads/2022/01/2653-1600x900-1-527x332.jpeg\",\n",
    "    # \"https://cs.uchicago.edu/wp-content/themes/csuc/build/fonts/GothamNarrSSm-BookItalic_Web.woff2\"\n",
    "]\n",
    "\n",
    "plot_frequencies(\n",
    "    test_pdf,\n",
    "    plot_urls,\n",
    "    mission_seconds,\n",
    "    240\n",
    ")"
   ]
  },
  {
   "cell_type": "code",
   "execution_count": null,
   "metadata": {},
   "outputs": [],
   "source": [
    "load_path = \"../data/cs.uchicago.edu/\"\n",
    "fpd = gen_feature(load_path)\n",
    "fpd.head(5)"
   ]
  }
 ],
 "metadata": {
  "kernelspec": {
   "display_name": "Python 3",
   "language": "python",
   "name": "python3"
  },
  "language_info": {
   "codemirror_mode": {
    "name": "ipython",
    "version": 3
   },
   "file_extension": ".py",
   "mimetype": "text/x-python",
   "name": "python",
   "nbconvert_exporter": "python",
   "pygments_lexer": "ipython3",
   "version": "3.10.11"
  }
 },
 "nbformat": 4,
 "nbformat_minor": 5
}

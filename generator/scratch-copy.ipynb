version https://git-lfs.github.com/spec/v1
oid sha256:b36993e1a0821c97074d41e65f0bef934cc29f5fb4ce992d76c988eab974da3c
size 128824337
